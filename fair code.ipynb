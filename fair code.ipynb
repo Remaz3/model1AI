{
  "nbformat": 4,
  "nbformat_minor": 0,
  "metadata": {
    "colab": {
      "provenance": []
    },
    "kernelspec": {
      "name": "python3",
      "display_name": "Python 3"
    },
    "language_info": {
      "name": "python"
    }
  },
  "cells": [
    {
      "cell_type": "code",
      "execution_count": 1,
      "metadata": {
        "colab": {
          "base_uri": "https://localhost:8080/"
        },
        "id": "Zg9V396mYf5c",
        "outputId": "427e064e-8bea-4dc6-90f5-4ba114be4b63"
      },
      "outputs": [
        {
          "output_type": "stream",
          "name": "stdout",
          "text": [
            "Collecting scikit-fuzzy\n",
            "  Downloading scikit_fuzzy-0.5.0-py2.py3-none-any.whl.metadata (2.6 kB)\n",
            "Downloading scikit_fuzzy-0.5.0-py2.py3-none-any.whl (920 kB)\n",
            "\u001b[?25l   \u001b[90m━━━━━━━━━━━━━━━━━━━━━━━━━━━━━━━━━━━━━━━━\u001b[0m \u001b[32m0.0/920.8 kB\u001b[0m \u001b[31m?\u001b[0m eta \u001b[36m-:--:--\u001b[0m\r\u001b[2K   \u001b[91m━━━━━━━━━━━━━━━━━━━━━━━━━━━━━━━━━━━━━━━\u001b[0m\u001b[91m╸\u001b[0m \u001b[32m911.4/920.8 kB\u001b[0m \u001b[31m38.9 MB/s\u001b[0m eta \u001b[36m0:00:01\u001b[0m\r\u001b[2K   \u001b[90m━━━━━━━━━━━━━━━━━━━━━━━━━━━━━━━━━━━━━━━━\u001b[0m \u001b[32m920.8/920.8 kB\u001b[0m \u001b[31m14.7 MB/s\u001b[0m eta \u001b[36m0:00:00\u001b[0m\n",
            "\u001b[?25hInstalling collected packages: scikit-fuzzy\n",
            "Successfully installed scikit-fuzzy-0.5.0\n"
          ]
        }
      ],
      "source": [
        "!pip install scikit-fuzzy\n"
      ]
    },
    {
      "cell_type": "code",
      "source": [
        "import random\n",
        "import smtplib\n",
        "from email.mime.text import MIMEText\n",
        "import numpy as np\n",
        "import skfuzzy as fuzz\n",
        "from skfuzzy import control as ctrl\n",
        "import logging\n",
        "import os\n",
        "\n",
        "# إعداد تسجيل الدخول\n",
        "logging.basicConfig(filename='fire_detection.log', level=logging.INFO, format='%(asctime)s - %(levelname)s - %(message)s')\n",
        "\n",
        "# 1. جمع البيانات من المستشعرات (باستخدام قيم عشوائية منطقية لمنطقة عسير)\n",
        "def get_sensor_data():\n",
        "    temperature = random.uniform(20.0, 40.0)  # درجة الحرارة بين 20 و 40 درجة مئوية\n",
        "    humidity = random.uniform(40.0, 80.0)     # الرطوبة بين 40% و 80%\n",
        "    smoke_level = random.uniform(0.0, 10.0)   # مستوى الدخان بين 0 و 10\n",
        "    wind_speed = random.uniform(5.0, 15.0)    # سرعة الرياح بين 5 و 15 كم/ساعة\n",
        "    drought = random.uniform(0.3, 0.8)        # الجفاف بين 0.3 و 0.8\n",
        "    location_risk = random.uniform(0.4, 0.7)  # مستوى المخاطر في الموقع بين 0.4 و 0.7\n",
        "    return temperature, humidity, smoke_level, wind_speed, drought, location_risk\n",
        "\n",
        "# 2. إعداد المتغيرات الضبابية\n",
        "temperature = ctrl.Antecedent(np.arange(20, 41, 1), 'temperature')\n",
        "humidity = ctrl.Antecedent(np.arange(40, 81, 1), 'humidity')\n",
        "smoke_level = ctrl.Antecedent(np.arange(0, 11, 1), 'smoke_level')\n",
        "wind_speed = ctrl.Antecedent(np.arange(5, 16, 1), 'wind_speed')\n",
        "drought = ctrl.Antecedent(np.arange(0, 1.1, 0.1), 'drought')\n",
        "location_risk = ctrl.Antecedent(np.arange(0, 1.1, 0.1), 'location_risk')\n",
        "fire_risk = ctrl.Consequent(np.arange(0, 11, 1), 'fire_risk')\n",
        "\n",
        "# تعريف دوال الانتماء الضبابية\n",
        "temperature.automf(3)\n",
        "humidity.automf(3)\n",
        "smoke_level.automf(3)\n",
        "wind_speed.automf(3)\n",
        "drought.automf(3)\n",
        "location_risk.automf(3)\n",
        "\n",
        "fire_risk['low'] = fuzz.trimf(fire_risk.universe, [0, 0, 5])\n",
        "fire_risk['medium'] = fuzz.trimf(fire_risk.universe, [0, 5, 10])\n",
        "fire_risk['high'] = fuzz.trimf(fire_risk.universe, [5, 10, 10])\n",
        "\n",
        "# قواعد منطق الضبابية\n",
        "rule1 = ctrl.Rule(temperature['poor'] & humidity['poor'] & smoke_level['good'] & wind_speed['good'] & drought['poor'] & location_risk['good'], fire_risk['high'])\n",
        "rule2 = ctrl.Rule(temperature['average'] & humidity['average'] & smoke_level['average'] & wind_speed['average'] & drought['average'] & location_risk['average'], fire_risk['medium'])\n",
        "rule3 = ctrl.Rule(temperature['good'] & humidity['good'] & smoke_level['poor'] & wind_speed['poor'] & drought['good'] & location_risk['poor'], fire_risk['low'])\n",
        "\n",
        "# إنشاء نظام التحكم الضبابي\n",
        "fire_risk_ctrl = ctrl.ControlSystem([rule1, rule2, rule3])\n",
        "fire_risk_sim = ctrl.ControlSystemSimulation(fire_risk_ctrl)\n",
        "\n",
        "# 3. تحليل البيانات باستخدام منطق الضبابية\n",
        "def analyze_data_with_fuzzy(temperature_val, humidity_val, smoke_level_val, wind_speed_val, drought_val, location_risk_val):\n",
        "    fire_risk_sim.input['temperature'] = temperature_val\n",
        "    fire_risk_sim.input['humidity'] = humidity_val\n",
        "    fire_risk_sim.input['smoke_level'] = smoke_level_val\n",
        "    fire_risk_sim.input['wind_speed'] = wind_speed_val\n",
        "    fire_risk_sim.input['drought'] = drought_val\n",
        "    fire_risk_sim.input['location_risk'] = location_risk_val\n",
        "    fire_risk_sim.compute()\n",
        "\n",
        "    # فحص مخرجات منطق الضبابية\n",
        "    if 'fire_risk' in fire_risk_sim.output:\n",
        "        return fire_risk_sim.output['fire_risk']\n",
        "    else:\n",
        "        print(\"Error: 'fire_risk' key not found in output. No rules were triggered.\")\n",
        "        return None\n",
        "\n",
        "# 4. إرسال الإشعارات في حال اكتشاف حريق محتمل\n",
        "def send_alert(location):\n",
        "    msg = MIMEText(f\"Potential fire detected at {location}. Please respond immediately!\")\n",
        "    msg['Subject'] = 'Forest Fire Alert'\n",
        "    msg['From'] = os.getenv('EMAIL_FROM')\n",
        "    msg['To'] = os.getenv('EMAIL_TO')\n",
        "\n",
        "    try:\n",
        "        with smtplib.SMTP(os.getenv('SMTP_SERVER'), int(os.getenv('SMTP_PORT'))) as server:\n",
        "            server.starttls()\n",
        "            server.login(os.getenv('EMAIL_FROM'), os.getenv('EMAIL_PASSWORD'))\n",
        "            server.send_message(msg)\n",
        "            logging.info(\"Alert sent successfully!\")\n",
        "    except Exception as e:\n",
        "        logging.error(f\"Failed to send alert: {e}\")\n",
        "\n",
        "# 5. تجميع المشروع\n",
        "def main():\n",
        "    location = \"Asir Region,Location XYZ\"\n",
        "\n",
        "    # جمع البيانات\n",
        "    temperature, humidity, smoke_level, wind_speed, drought, location_risk = get_sensor_data()\n",
        "    logging.info(f\"Temperature: {temperature:.2f}°C, Humidity: {humidity:.2f}%, Smoke Level: {smoke_level:.2f}, Wind Speed: {wind_speed:.2f} km/h, Drought: {drought:.2f}, Location Risk: {location_risk:.2f}\")\n",
        "\n",
        "    # تحليل البيانات باستخدام منطق الضبابية\n",
        "    fire_risk_value = analyze_data_with_fuzzy(temperature, humidity, smoke_level, wind_speed, drought, location_risk)\n",
        "    print(f\"Temperature: {temperature:.2f}°C\")\n",
        "    print(f\"Humidity: {humidity:.2f}%\")\n",
        "    print(f\"Smoke Level: {smoke_level:.2f}\")\n",
        "    print(f\"Wind Speed: {wind_speed:.2f} km/h\")\n",
        "    print(f\"Drought: {drought:.2f}\")\n",
        "    print(f\"Location Risk: {location_risk:.2f}\")\n",
        "\n",
        "    if fire_risk_value is not None:\n",
        "        print(f\"Fire Risk Value: {fire_risk_value:.2f}\")\n",
        "        logging.info(f\"Fire risk value: {fire_risk_value:.2f}\")\n",
        "\n",
        "        # تحديد حالة الخطر بناءً على عتبة\n",
        "        if fire_risk_value > 7.0:\n",
        "            logging.warning(\"Potential fire detected!\")\n",
        "            print(\"Warning: Potential fire detected!\")\n",
        "            send_alert(location)\n",
        "        else:\n",
        "            logging.info(\"No fire detected.\")\n",
        "            print(\"No fire detected.\")\n",
        "    else:\n",
        "        print(\"Failed to compute fire risk value.\")\n",
        "\n",
        "if __name__ == \"__main__\":\n",
        "    main()"
      ],
      "metadata": {
        "colab": {
          "base_uri": "https://localhost:8080/"
        },
        "id": "T0PhIdsrYzR6",
        "outputId": "5902c073-c35d-4b88-f0d3-995094130e66"
      },
      "execution_count": 3,
      "outputs": [
        {
          "output_type": "stream",
          "name": "stdout",
          "text": [
            "Temperature: 22.09°C\n",
            "Humidity: 74.22%\n",
            "Smoke Level: 5.65\n",
            "Wind Speed: 7.35 km/h\n",
            "Drought: 0.76\n",
            "Location Risk: 0.52\n",
            "Fire Risk Value: 5.00\n",
            "No fire detected.\n"
          ]
        }
      ]
    }
  ]
}